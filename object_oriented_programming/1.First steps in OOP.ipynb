{
 "cells": [
  {
   "cell_type": "markdown",
   "metadata": {},
   "source": [
    "# <h1>1.3 Classes and objects. Attributes of classes and objects</h1>"
   ]
  },
  {
   "cell_type": "markdown",
   "metadata": {},
   "source": [
    "Task 3. Declare a class named DataBase, that contains the following information:\n",
    "\n",
    "```python\n",
    "pk: 1\n",
    "title: \"Классы и объекты\"\n",
    "author: \"Сергей Балакирев\"\n",
    "views: 14356\n",
    "comments: 12\n",
    "```\n",
    "\n",
    "Use the same variable names(attributes of the class) (pk, title, authoe, views and comments) with appropriate values."
   ]
  },
  {
   "cell_type": "code",
   "execution_count": 12,
   "metadata": {},
   "outputs": [],
   "source": [
    "class DataBase:\n",
    "    pk = 1\n",
    "    title = 'Классы и объекты'\n",
    "    author = 'Сергей Балакирев'\n",
    "    views = 14356\n",
    "    comments = 12"
   ]
  },
  {
   "cell_type": "markdown",
   "metadata": {},
   "source": [
    "Task 4. Declare a class named Goods and write the following attribute(variables) in it:\n",
    "\n",
    "```python\n",
    "title: \"Мороженое\"\n",
    "weight: 154\n",
    "tp: \"Еда\"\n",
    "price: 1024\n",
    "```\n",
    "Then, after declaring the class, change its attribute price to a value of 2048 and add another attribute:\n",
    "\n",
    "```python\n",
    "inflanation: 100\n",
    "```"
   ]
  },
  {
   "cell_type": "code",
   "execution_count": 1,
   "metadata": {},
   "outputs": [],
   "source": [
    "class Goods:\n",
    "    title = 'Мороженое'\n",
    "    weight = 154\n",
    "    tp = 'Еда'\n",
    "    price = 1024\n",
    "\n",
    "Goods.price = 2048\n",
    "Goods.inflation = 100\n",
    "# setattr(Goods, 'inflation', 100)"
   ]
  },
  {
   "cell_type": "code",
   "execution_count": 2,
   "metadata": {},
   "outputs": [
    {
     "data": {
      "text/plain": [
       "mappingproxy({'__module__': '__main__',\n",
       "              'title': 'Мороженое',\n",
       "              'weight': 154,\n",
       "              'tp': 'Еда',\n",
       "              'price': 2048,\n",
       "              '__dict__': <attribute '__dict__' of 'Goods' objects>,\n",
       "              '__weakref__': <attribute '__weakref__' of 'Goods' objects>,\n",
       "              '__doc__': None,\n",
       "              'inflation': 100})"
      ]
     },
     "execution_count": 2,
     "metadata": {},
     "output_type": "execute_result"
    }
   ],
   "source": [
    "Goods.__dict__"
   ]
  },
  {
   "cell_type": "markdown",
   "metadata": {},
   "source": [
    "Task 5. Declare an empty class named Car. Using the setattr() function, add attributes to this class:\n",
    "\n",
    "```python\n",
    "model: \"Toyota\"\n",
    "color: \"Розовый\"\n",
    "number: \"П111УУ77\"\n",
    "```\n",
    "Display the value of the attribute color, using the __dict__ dictionary of the Car class."
   ]
  },
  {
   "cell_type": "code",
   "execution_count": 11,
   "metadata": {},
   "outputs": [
    {
     "name": "stdout",
     "output_type": "stream",
     "text": [
      "Розовый\n"
     ]
    }
   ],
   "source": [
    "class Car:\n",
    "    pass\n",
    "\n",
    "setattr(Car, 'model', 'Тойота')\n",
    "setattr(Car, 'color', 'Розовый')\n",
    "setattr(Car, 'number', 'П111УУ77')\n",
    "print(Car.__dict__['color'])"
   ]
  },
  {
   "cell_type": "markdown",
   "metadata": {},
   "source": [
    "Task 6. Declare a class named Notes and define the following attribute in it:\n",
    "```python\n",
    "uid: 1005435\n",
    "title: \"Шутка\"\n",
    "author: \"И.С. Бах\"\n",
    "pages: 2\n",
    "```\n",
    "Then, using the getattr() function, read and display the value of the author attribute."
   ]
  },
  {
   "cell_type": "code",
   "execution_count": 13,
   "metadata": {},
   "outputs": [
    {
     "name": "stdout",
     "output_type": "stream",
     "text": [
      "И.С. Бах\n"
     ]
    }
   ],
   "source": [
    "class Notes:\n",
    "    uid = 1005435\n",
    "    title = 'Шутка'\n",
    "    author = 'И.С. Бах'\n",
    "    pages = 2\n",
    "\n",
    "print(getattr(Notes, 'author'))"
   ]
  },
  {
   "cell_type": "markdown",
   "metadata": {},
   "source": [
    "Task 7. Declare a class named Dictionary and define the following attribute in it:\n",
    "```python\n",
    "rus: 'Питон'\n",
    "eng: 'Python'\n",
    "```\n",
    "Then, using the getattr() function, read and display the value of the rus_word attribute. If there is no such attribute is not in the class, then getattr() function should return a boolean value of False. "
   ]
  },
  {
   "cell_type": "code",
   "execution_count": 14,
   "metadata": {},
   "outputs": [
    {
     "name": "stdout",
     "output_type": "stream",
     "text": [
      "False\n"
     ]
    }
   ],
   "source": [
    "class Dictionary:\n",
    "    rus = 'Питон'\n",
    "    eng = 'Python'\n",
    "\n",
    "print(getattr(Dictionary, 'rus_word', False))"
   ]
  },
  {
   "cell_type": "markdown",
   "metadata": {},
   "source": [
    "Task 8. Declare a class named TravelBlog and declare an attribute to it:\n",
    "```python\n",
    "total_blogs: 0\n",
    "```\n",
    "Create an instance of this class named tb1, form two local properties to it:\n",
    "```python\n",
    "name: 'Франция'\n",
    "days: 6\n",
    "```\n",
    "Increase the value of the total_blogs attribute of the TravelBlog class by one.\n",
    "\n",
    "Create another instance of TravelBlog class named tb2, form two local properties to it:\n",
    "```python\n",
    "name: 'Италия'\n",
    "days: 5\n",
    "```\n",
    "Increase a value of the total_blogs attribute the TravelBlog class by one more.\n",
    "\n",
    "P.S. You don`t need to display anything on the screen"
   ]
  },
  {
   "cell_type": "code",
   "execution_count": 27,
   "metadata": {},
   "outputs": [],
   "source": [
    "class TravelBlog:\n",
    "    total_blogs = 0\n",
    "\n",
    "tb1 = TravelBlog()\n",
    "tb1.name = 'Франция'\n",
    "tb1.days = 6\n",
    "\n",
    "TravelBlog.total_blogs += 1\n",
    "\n",
    "tb2 = TravelBlog()\n",
    "tb2.name = 'Италия'\n",
    "tb2.days = 5\n",
    "\n",
    "TravelBlog.total_blogs += 1"
   ]
  },
  {
   "cell_type": "markdown",
   "metadata": {},
   "source": [
    "Task 9. Declare a class with the name Figure and two attributes:\n",
    "```python\n",
    "type_fig: 'ellipse'\n",
    "color: 'red'\n",
    "```\n",
    "Create an instanse named fig1 of this class and add the following local attributes to it:\n",
    "```python\n",
    "type_fig: 'ellipse'\n",
    "color: 'red'\n",
    "```\n",
    "Remove the color property from class instance and display a list of all local properties (without values) of the fig1 object in a single line, separated by a space, in the order specified in the task."
   ]
  },
  {
   "cell_type": "code",
   "execution_count": null,
   "metadata": {},
   "outputs": [],
   "source": []
  }
 ],
 "metadata": {
  "kernelspec": {
   "display_name": "venv",
   "language": "python",
   "name": "python3"
  },
  "language_info": {
   "codemirror_mode": {
    "name": "ipython",
    "version": 3
   },
   "file_extension": ".py",
   "mimetype": "text/x-python",
   "name": "python",
   "nbconvert_exporter": "python",
   "pygments_lexer": "ipython3",
   "version": "3.10.12"
  },
  "orig_nbformat": 4
 },
 "nbformat": 4,
 "nbformat_minor": 2
}
