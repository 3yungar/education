{
 "cells": [
  {
   "cell_type": "markdown",
   "metadata": {},
   "source": [
    "# <h1><strong>18.1 Итоговая работа</strong></h1>"
   ]
  },
  {
   "cell_type": "markdown",
   "metadata": {},
   "source": [
    "**Количество строк в файле**\n",
    "\n",
    "На вход программе подается строка текста с именем текстового файла. Напишите программу для вывода на экран количества строк данного файла.\n",
    "\n",
    "Формат входных данных\n",
    "- На вход программе подается строка текста, содержащая имя существующего текстового файла.\n",
    "\n",
    "Формат выходных данных\n",
    "- Программа должна вывести количество строк файла.\n",
    "\n",
    "Примечание. Считайте, что исполняемая программа и указанный файл находятся в одной папке."
   ]
  },
  {
   "cell_type": "code",
   "execution_count": 2,
   "metadata": {},
   "outputs": [
    {
     "name": "stdout",
     "output_type": "stream",
     "text": [
      "5\n"
     ]
    }
   ],
   "source": [
    "filename = input()\n",
    "with open(filename, 'r') as file:\n",
    "    print(len(file.readlines()))"
   ]
  },
  {
   "cell_type": "markdown",
   "metadata": {},
   "source": [
    "**Суммарная стоимость**\n",
    "\n",
    "Вам доступен текстовый файл ledger.txt с данными о продажах фирмы за месяц. На каждой строке файла указано, сколько клиент заплатил за товар, в долларах (целое число):\n",
    "```text\n",
    "$47\n",
    "$100\n",
    "$60\n",
    "$12\n",
    "$8\n",
    "```\n",
    "...\n",
    "Напишите программу для подсчета суммарной месячной выручки фирмы. \n",
    "\n",
    "Формат входных данных\n",
    "- На вход программе ничего не подается.\n",
    "\n",
    "Формат выходных данных\n",
    "- Программа должна вывести выручку фирмы (сумму всех чисел из файла) в соответствии с примером ниже.\n",
    "\n",
    "Примечание 1. Считайте, что исполняемая программа и указанный файл находятся в одной папке.\n",
    "\n",
    "Примечание 2. Если бы файл ledger.txt содержал строки:\n",
    "```text\n",
    "$37\n",
    "$44\n",
    "$19\n",
    "```\n",
    "то результатом будет:\n",
    "```text\n",
    "$100\n",
    "```\n",
    "Примечание 3. Указанный файл можно скачать по ссылке."
   ]
  },
  {
   "cell_type": "code",
   "execution_count": 1,
   "metadata": {},
   "outputs": [
    {
     "name": "stdout",
     "output_type": "stream",
     "text": [
      "/home/aleksandr/my_projects/education/python_advanced/data\n"
     ]
    }
   ],
   "source": [
    "%cd data"
   ]
  },
  {
   "cell_type": "code",
   "execution_count": 10,
   "metadata": {},
   "outputs": [
    {
     "name": "stdout",
     "output_type": "stream",
     "text": [
      "$26127\n"
     ]
    }
   ],
   "source": [
    "with open('ledger.txt', 'r', encoding='utf-8') as file:\n",
    "    total = 0\n",
    "    for payment in file.readlines():\n",
    "        total += int(payment.strip()[1:])\n",
    "    \n",
    "    print(f'${total}')"
   ]
  },
  {
   "cell_type": "markdown",
   "metadata": {},
   "source": [
    "**Goooood students**\n",
    "\n",
    "Вам доступен текстовый файл grades.txt, содержащий оценки студента за три теста в каждом из триместров. Строки файла имеют вид: фамилия оценка_1 оценка_2 оценка_3.\n",
    "\n",
    "Напишите программу для подсчета количества студентов, сдавших все три теста. Тест считается сданным, если количество баллов по нему не меньше \n",
    "65.\n",
    "\n",
    "Формат входных данных\n",
    "- На вход программе ничего не подается.\n",
    "\n",
    "Формат выходных данных\n",
    "- Программа должна вывести количество студентов, сдавших все три теста.\n",
    "\n",
    "Примечание 1. Считайте, что исполняемая программа и указанный файл находятся в одной папке.\n",
    "\n",
    "Примечание 2. Если бы файл grades.txt содержал строки:\n",
    "```text\n",
    "Washington 83 77 54\n",
    "Adams 86 69 90\n",
    "Jacobson 50 49 71\n",
    "MacDonald 100 99 100\n",
    "Berrington 66 67 64\n",
    "```\n",
    "то результатом будет:\n",
    "\n",
    "2\n",
    "\n",
    "Примечание 3. Указанный файл можно скачать по ссылке."
   ]
  },
  {
   "cell_type": "code",
   "execution_count": 22,
   "metadata": {},
   "outputs": [
    {
     "name": "stdout",
     "output_type": "stream",
     "text": [
      "19\n"
     ]
    }
   ],
   "source": [
    "with open('grades.txt', 'r', encoding='utf-8') as file:\n",
    "    total = 0\n",
    "    for row in file.readlines():\n",
    "        total += all(map(lambda x: int(x) >= 65, row.split()[1:]))\n",
    "    print(total)"
   ]
  },
  {
   "cell_type": "markdown",
   "metadata": {},
   "source": [
    "**Самое длинное слово в файле**\n",
    "\n",
    "Вам доступен текстовый файл words.txt со словами, разделенными пробелом. Напишите программу, которая находит и выводит самые длинные слова этого файла, не меняя порядка их следования.\n",
    "\n",
    "Формат входных данных\n",
    "- На вход программе ничего не подается.\n",
    "\n",
    "- Формат выходных данных\n",
    "Программа должна вывести самые длинные слова файла words.txt, каждое с новой строки, не меняя их порядка следования.\n",
    "\n",
    "Примечание 1. Считайте, что исполняемая программа и указанный файл находятся в одной папке.\n",
    "\n",
    "Примечание 2. Словом считайте любую группу символов без пробелов, даже если она включает цифры или знаки препинания.\n",
    "\n",
    "Примечание 3. Если бы файл words.txt содержал строки:\n",
    "```text\n",
    "there are many different holidays on the first of january we celebrate new year on the seventh of january and the twenty-fifth of december we have christmas the twenty-third of february is the day of the defenders of the motherland or the army day then comes easter and radonitsa the first of may is the labour day the ninth of may is victory day the third of july is independence day then comes the seventh of november the day of the october revolution and so on\n",
    "```\n",
    "то результатом будет:\n",
    "\n",
    "```text\n",
    "twenty-fifth\n",
    "twenty-third\n",
    "independence\n",
    "```\n",
    "Примечание 4. Указанный файл можно скачать по ссылке."
   ]
  },
  {
   "cell_type": "code",
   "execution_count": 29,
   "metadata": {},
   "outputs": [
    {
     "name": "stdout",
     "output_type": "stream",
     "text": [
      "responsibility\n",
      "administration\n",
      "recommendation\n",
      "transportation\n"
     ]
    }
   ],
   "source": [
    "with open('words.txt', 'r', encoding='utf-8') as file:\n",
    "    lst = sorted(file.read().split(), key=lambda x: len(x), reverse=True)\n",
    "    print(*filter(lambda x: len(x)==len(lst[0]), lst), sep='\\n')"
   ]
  },
  {
   "cell_type": "markdown",
   "metadata": {},
   "source": [
    "**Tail of a File**\n",
    "\n",
    "На вход программе подается строка текста с именем текстового файла. Напишите программу, выводящую на экран последние 10 строк данного файла.\n",
    "\n",
    "Формат входных данных\n",
    "- На вход программе подается строка текста с именем существующего текстового файла.\n",
    "\n",
    "Формат выходных данных\n",
    "- Программа должна вывести последние 10 строк этого файла.\n",
    "\n",
    "Примечание 1. Считайте, что исполняемая программа и файл находятся в одной папке.\n",
    "\n",
    "Примечание 2. Если количество строк в файле меньше 10, необходимо вывести содержимое файла полностью.\n",
    "\n",
    "Примечание 3. Если бы файл содержал строки:\n",
    "```text\n",
    "there are many different holidays\n",
    "on the first of january we\n",
    "celebrate new year on the\n",
    "seventh of january and the\n",
    "twenty-fifth of december we\n",
    "have christmas the twenty-third\n",
    "of february is the day of the\n",
    "defenders of the motherland\n",
    "or the army day then comes\n",
    "easter and radonitsa the\n",
    "first of may is the labour\n",
    "day the ninth of may is\n",
    "victory day the third of july\n",
    "is independence day then comes\n",
    "the seventh of november the day\n",
    "of the october revolution and so on\n",
    "```\n",
    "то результатом будет:\n",
    "\n",
    "```text\n",
    "of february is the day of the\n",
    "defenders of the motherland\n",
    "or the army day then comes\n",
    "easter and radonitsa the\n",
    "first of may is the labour\n",
    "day the ninth of may is\n",
    "victory day the third of july\n",
    "is independence day then comes\n",
    "the seventh of november the day\n",
    "of the october revolution and so on\n",
    "```\n",
    "Примечание 4. Подумайте над ситуацией, когда файл очень большой и нерационально считывать все его содержимое в память компьютера."
   ]
  },
  {
   "cell_type": "code",
   "execution_count": null,
   "metadata": {},
   "outputs": [],
   "source": [
    "filename = input()\n",
    "with open(filename, 'r', encoding='utf-8') as file:\n",
    "    print(*[row.strip() for row in file.readlines()[-10:]], sep='\\n')"
   ]
  },
  {
   "cell_type": "markdown",
   "metadata": {},
   "source": [
    "**Forbidden words 🌶️**\n",
    "\n",
    "На вход программе подается строка текста с именем текстового файла. Напишите программу, выводящую на экран содержимое этого файла, но с заменой всех запрещенных слов звездочками * (количество звездочек равно количеству букв в слове).\n",
    "\n",
    "Запрещенные слова, разделенные символом пробела, хранятся в текстовом файле forbidden_words.txt. Гарантируется, что все слова в этом файле записаны в нижнем регистре.\n",
    "\n",
    "Формат входных данных\n",
    "- На вход программе подается строка текста с именем существующего текстового файла, в котором необходимо заменить запрещенные слова звездочками.\n",
    "\n",
    "Формат выходных данных\n",
    "- Программа должна вывести текст в соответствии с условием задачи.\n",
    "\n",
    "Примечание 1. Ваша программа должна заменить запрещенные слова, где бы они ни встречались, даже если они встречаются в середине другого слова.\n",
    "\n",
    "Примечание 2. Программа должна заменять запрещенные слова независимо от их регистра. Например, если файл forbidden_words.txt содержит запрещенное слово exam, то слова exam, Exam, ExaM, EXAM и подобные должны быть заменены на ****.\n",
    "\n",
    "Примечание 3. Если бы файл forbidden_words.txt содержал слова:\n",
    "```text\n",
    "hello email python the exam wor is\n",
    "```\n",
    "а файл в котором заменяются слова имел бы вид:\n",
    "```text\n",
    "Hello, world! Python IS the programming language of thE future. My EMAIL is....\n",
    "PYTHON is awesome!!!!\n",
    "```\n",
    "то результатом будет:\n",
    "```text\n",
    "*****, ***ld! ****** ** *** programming language of *** future. My ***** **....\n",
    "****** ** awesome!!!!\n",
    "```\n",
    "Примечание 4. Файл forbidden_words.txt можно скачать по ссылке. Ваша программа прогоняется на трех файлах data.txt, stepik.txt и beegeek.txt."
   ]
  },
  {
   "cell_type": "code",
   "execution_count": 124,
   "metadata": {},
   "outputs": [
    {
     "name": "stdout",
     "output_type": "stream",
     "text": [
      "*********** ******************* ******** ************ ************. ***********     confusio  ********* and *******************.\n",
      "********* and math ******* ***********...... ****** ****** PyToN\n",
      "\n"
     ]
    }
   ],
   "source": [
    "filename = input()\n",
    "# filename = 'stepik.txt'\n",
    "# filename = 'beegeek.txt'\n",
    "with open(filename, 'r', encoding='utf-8') as data, open('forbidden_words.txt', 'r', encoding='utf-8') as forbidden:\n",
    "    fwords = forbidden.read().split()\n",
    "    s = data.read()\n",
    "    s_lower = s.lower()\n",
    "\n",
    "    for word in fwords:\n",
    "        s_lower = s_lower.replace(word, '*'*len(word))\n",
    "    \n",
    "    answer = ''\n",
    "    for i in range(len(s)):\n",
    "        if s_lower[i] != '*' and s[i] != s_lower[i]:\n",
    "            answer += s[i]\n",
    "        else:\n",
    "            answer += s_lower[i]\n",
    "\n",
    "    print(answer)"
   ]
  },
  {
   "cell_type": "markdown",
   "metadata": {},
   "source": [
    "**Транслитерация 🌶️**\n",
    "\n",
    "Транслитерация — передача знаков одной письменности знаками другой письменности, при которой каждый знак (или последовательность знаков) одной системы письма передаётся соответствующим знаком (или последовательностью знаков) другой системы письма.\n",
    "\n",
    "<img src=\"plots/translitteration.png\" alt=\"Таблица транслитерации\"/>\n",
    "\n",
    "Вам доступен текстовый файл cyrillic.txt, содержащий текст. Напишите программу для транслитерации этого файла, то есть замены кириллических символов на латинские в соответствии с предложенной таблицей. Все остальные символы надо оставить без изменений. Результат транслитерации требуется записать в файл transliteration.txt.\n",
    "\n",
    "Формат входных данных\n",
    "- На вход программе ничего не подается.\n",
    "\n",
    "Формат выходных данных\n",
    "- Программа должна создать файл с именем transliteration.txt в соответствии с условием задачи.\n",
    "\n",
    "Примечание 1. Считайте, что исполняемая программа и указанные файлы находятся в одной папке.\n",
    "\n",
    "Примечание 2. Обратите внимание, что заглавные буквы должны заменяться на соответствующие им заглавные же буквы, но если транслитерационная последовательность состоит из нескольких символов, то заглавным будет только первый из них: «С» на «S», а «Я» на «Ya».\n",
    "\n",
    "Примечание 3. Если бы файл cyrillic.txt содержал текст:\n",
    "```text\n",
    "Президент США Дональд Трамп продолжил обмен выпадами с руководством КНДР.\n",
    "We all know why Joe Biden is rushing to falsely pose as the winner, and why his media allies are trying so hard to help him: they don’t want the truth to be exposed.\n",
    "```\n",
    "то содержимое файла transliteration.txt будет:\n",
    "\n",
    "```text\n",
    "Prezident SShA Donal'd Tramp prodolzhil obmen vypadami s rukovodstvom KNDR.\n",
    "We all know why Joe Biden is rushing to falsely pose as the winner, and why his media allies are trying so hard to help him: they don’t want the truth to be exposed.\n",
    "```\n",
    "Примечание 4. Указанный файл можно скачать по ссылке."
   ]
  },
  {
   "cell_type": "code",
   "execution_count": 14,
   "metadata": {},
   "outputs": [],
   "source": [
    "d = {\n",
    "    'а': 'a', 'к': 'k', 'х': 'h', 'б': 'b', 'л': 'l', 'ц': 'c', 'в': 'v', 'м': 'm', 'ч': 'ch',\n",
    "    'г': 'g', 'н': 'n', 'ш': 'sh', 'д': 'd', 'о': 'o', 'щ': 'shh', 'е': 'e', 'п': 'p', 'ъ': '*',\n",
    "    'ё': 'jo', 'р': 'r', 'ы': 'y', 'ж': 'zh', 'с': 's', 'ь': \"'\", 'з': 'z', 'т': 't', 'э': 'je',\n",
    "    'и': 'i', 'у': 'u', 'ю': 'ju', 'й': 'j', 'ф': 'f', 'я': 'ya'\n",
    "    }\n",
    "\n",
    "with open('cyrillic.txt', 'r', encoding='utf-8') as data, open('transliteration.txt', 'w', encoding='utf-8') as output:\n",
    "    text = data.read()\n",
    "    answer = ''\n",
    "    for letter in text:\n",
    "        if letter.lower() in d:\n",
    "            if letter.islower():\n",
    "                answer += d[letter]\n",
    "            else:\n",
    "                answer += d[letter.lower()].capitalize()\n",
    "        else:\n",
    "            answer += letter\n",
    "\n",
    "    print(answer, file=output)"
   ]
  },
  {
   "cell_type": "markdown",
   "metadata": {},
   "source": [
    "**Пропущенные комменты 🌶️**\n",
    "\n",
    "При написании собственных функций рекомендуется в комментарии описывать назначение функции, ее параметры и возвращаемое значение. Часто программисты откладывают написание таких комментариев напоследок, а потом и вовсе забывают о них 😂.\n",
    "\n",
    "На вход программе подается строка текста с именем текстового файла, в котором написан код на языке Python. Напишите программу, выводящую на экран имена всех функций для которых отсутствует поясняющий комментарий. Будем считать, что любая строка, начинающаяся со слова def и пробела, является началом определения функции. Функция содержит комментарий, если первый символ предыдущей строки - #.\n",
    "\n",
    "Формат входных данных\n",
    "- На вход программе подается строка текста, содержащая имя существующего текстового файла с кодом на языке Python.\n",
    "\n",
    "Формат выходных данных\n",
    "- Программа должна вывести названия всех функций (не меняя порядка их следования в исходном файле), каждое на отдельной строке, для которых отсутствует поясняющий комментарий. Если все функции в файле имеют поясняющий комментарий, то следует вывести: Best Programming Team.\n",
    "\n",
    "Примечание 1. Если бы файл содержал код:\n",
    "\n",
    "```python\n",
    "def powers(a):\n",
    "    return a, a**2, a**3\n",
    "\n",
    "# функция вычисляет сумму всех переданных чисел\n",
    "def sum_all(*args):\n",
    "    return sum(args)\n",
    "\n",
    "def matrix():\n",
    "    pass\n",
    "\n",
    "# функция возвращает количество переданных аргументов\n",
    "def count_args(*args):\n",
    "    return len(args)\n",
    "\n",
    "def mean(*args):\n",
    "    total = 0.0\n",
    "    count = 0  \n",
    "    for i in args:\n",
    "        if type(i) in (int, float):\n",
    "            total += i\n",
    "            count += 1\n",
    "    if count == 0:\n",
    "        return 0.0\n",
    "    else:\n",
    "        return total / count\n",
    "    \n",
    "def greet(name, *args):\n",
    "    args = (name,) + args\n",
    "    return f'Hello, {\" and \".join(args)}!'\n",
    "\n",
    "# функция вычисляет факториал переданного числа\n",
    "def fact(n):\n",
    "    res = 1\n",
    "    for i in range(1, n + 1):\n",
    "        res *= i\n",
    "    return res\n",
    "```\n",
    "то результатом будет:\n",
    "\n",
    "```text\n",
    "powers\n",
    "matrix\n",
    "mean\n",
    "greet\n",
    "```\n",
    "Примечание 2. Гарантируется, что в файле есть хотя бы одна функция при этом вложенных функций в файле нет. "
   ]
  },
  {
   "cell_type": "code",
   "execution_count": 45,
   "metadata": {},
   "outputs": [
    {
     "name": "stdout",
     "output_type": "stream",
     "text": [
      "Best Programming Team\n"
     ]
    }
   ],
   "source": [
    "filename = input()\n",
    "# filename = 'functions.txt'\n",
    "with open(filename, 'r', encoding='utf-8') as file:\n",
    "    functions = []\n",
    "    rows = file.readlines()\n",
    "    rows = [' '] + rows\n",
    "    for i, row in enumerate(rows):\n",
    "        if row[:4] == 'def ':\n",
    "            name_func = row[4:row.find('(')]\n",
    "            if '#' in rows[i - 1]:\n",
    "                functions.append((name_func, False))\n",
    "            else:\n",
    "                functions.append((name_func, True))\n",
    "    \n",
    "    if all(map(lambda func: func[1] == False, functions)):\n",
    "        print('Best Programming Team')\n",
    "    else:\n",
    "        print(*map(lambda func: func[0], (filter(lambda func: func[1], functions))), sep='\\n')\n"
   ]
  }
 ],
 "metadata": {
  "kernelspec": {
   "display_name": "venv",
   "language": "python",
   "name": "python3"
  },
  "language_info": {
   "codemirror_mode": {
    "name": "ipython",
    "version": 3
   },
   "file_extension": ".py",
   "mimetype": "text/x-python",
   "name": "python",
   "nbconvert_exporter": "python",
   "pygments_lexer": "ipython3",
   "version": "3.10.12"
  },
  "orig_nbformat": 4
 },
 "nbformat": 4,
 "nbformat_minor": 2
}
