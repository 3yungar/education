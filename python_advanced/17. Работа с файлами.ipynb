{
 "cells": [
  {
   "cell_type": "markdown",
   "metadata": {},
   "source": [
    "# <h1><strong>17.2 Работа с текстовыми файлами.Часть 1</strong></h1>"
   ]
  },
  {
   "cell_type": "markdown",
   "metadata": {},
   "source": [
    "<strong>Содержимое файла</strong>\n",
    "\n",
    "На вход программе подается строка с именем текстового файла. Напишите программу, которая выводит на экран его содержимое.\n",
    "\n",
    "Формат входных данных\n",
    "- На вход программе подается строка текста с именем существующего текстового файла.\n",
    "\n",
    "Формат выходных данных\n",
    "- Программа должна вывести содержимое указанного файла.\n",
    "\n",
    "Примечание 1. Считайте, что исполняемая программа и указанный файл находятся в одной папке.\n",
    "\n",
    "Примечание 2. Не забудьте закрыть файл 🙂."
   ]
  },
  {
   "cell_type": "code",
   "execution_count": 91,
   "metadata": {},
   "outputs": [
    {
     "name": "stdout",
     "output_type": "stream",
     "text": [
      "/home/aleksandr/my_projects/education/python_advanced/data\n"
     ]
    }
   ],
   "source": [
    "%cd data"
   ]
  },
  {
   "cell_type": "code",
   "execution_count": 92,
   "metadata": {},
   "outputs": [
    {
     "name": "stdout",
     "output_type": "stream",
     "text": [
      "Hello, world!\n",
      "Python 3.10 had installed in this distributive.\n",
      "Then nessesary libraries was installed in this virtual environment!\n",
      "\n"
     ]
    }
   ],
   "source": [
    "filename = input()\n",
    "\n",
    "file = open(filename, 'r')\n",
    "print(file.read())\n",
    "file.close()"
   ]
  },
  {
   "cell_type": "markdown",
   "metadata": {},
   "source": [
    "**Предпоследняя строка**\n",
    "\n",
    "На вход программе подается строка с именем текстового файла. Напишите программу, которая выводит на экран его предпоследнюю строку.\n",
    "\n",
    "Формат входных данных\n",
    "- На вход программе подается строка текста с именем существующего текстового файла.\n",
    "\n",
    "Формат выходных данных\n",
    "- Программа должна вывести предпоследнюю строку указанного файла.\n",
    "\n",
    "Примечание 1. Считайте, что исполняемая программа и указанный файл находятся в одной папке.\n",
    "\n",
    "Примечание 2. Гарантируется, что файл содержит хотя бы две строки.\n",
    "\n",
    "Примечание 3. Не забудьте закрыть файл 🙂."
   ]
  },
  {
   "cell_type": "code",
   "execution_count": 16,
   "metadata": {},
   "outputs": [
    {
     "name": "stdout",
     "output_type": "stream",
     "text": [
      "Python 3.10 had installed in this distributive.\n",
      "\n"
     ]
    }
   ],
   "source": [
    "filename = input()\n",
    "\n",
    "file = open(filename, 'r')\n",
    "print(file.readlines()[-2])\n",
    "file.close()"
   ]
  },
  {
   "cell_type": "markdown",
   "metadata": {},
   "source": [
    "**Случайная строка**\n",
    "\n",
    "Вам доступен текстовый файл lines.txt из нескольких строк. Напишите программу, которая выводит на экран случайную строку из этого файла.\n",
    "\n",
    "- Формат входных данных\n",
    "На вход программе ничего не подается.\n",
    "\n",
    "- Формат выходных данных\n",
    "Программа должна вывести случайную строку указанного файла.\n",
    "\n",
    "Примечание 1. Считайте, что исполняемая программа и указанный файл находятся в одной папке.\n",
    "\n",
    "Примечание 2. Гарантируется, что файл содержит хотя бы одну строку.\n",
    "\n",
    "Примечание 3. Не забудьте закрыть файл 🙂.\n",
    "\n",
    "Примечание 4. Указанный файл можно скачать по ссылке."
   ]
  },
  {
   "cell_type": "code",
   "execution_count": 77,
   "metadata": {},
   "outputs": [
    {
     "name": "stdout",
     "output_type": "stream",
     "text": [
      "Иногда среднее тире называют коротким тире\n",
      "\n"
     ]
    }
   ],
   "source": [
    "from random import randrange\n",
    "\n",
    "file = open('lines.txt', 'r')\n",
    "rows = file.readlines()\n",
    "print(rows[randrange(len(rows))])\n",
    "file.close()"
   ]
  },
  {
   "cell_type": "markdown",
   "metadata": {},
   "source": [
    "**Сумма двух-1**\n",
    "\n",
    "Вам доступен текстовый файл numbers.txt из двух строк, на каждой из них записано целое число. Напишите программу, выводящую на экран сумму этих чисел.\n",
    "\n",
    "Формат входных данных\n",
    "- На вход программе ничего не подается.\n",
    "\n",
    "Формат выходных данных\n",
    "- Программа должна вывести сумму чисел из указанного файла.\n",
    "\n",
    "Примечание 1. Считайте, что исполняемая программа и указанный файл находятся в одной папке.\n",
    "\n",
    "Примечание 2. Не забудьте закрыть файл 🙂.\n",
    "\n",
    "Примечание 3. Указанный файл можно скачать по ссылке."
   ]
  },
  {
   "cell_type": "code",
   "execution_count": 81,
   "metadata": {},
   "outputs": [
    {
     "name": "stdout",
     "output_type": "stream",
     "text": [
      "491000626\n"
     ]
    }
   ],
   "source": [
    "file = open('numbers.txt', 'r')\n",
    "\n",
    "print(sum(map(int, file.readlines())))\n",
    "file.close()"
   ]
  },
  {
   "cell_type": "markdown",
   "metadata": {},
   "source": [
    "**Сумма двух-2**\n",
    "\n",
    "Вам доступен текстовый файл nums.txt. В файле записано два целых числа, они могут быть разделены символами пробела и конца строки. Напишите программу, выводящую на экран сумму этих чисел.\n",
    "\n",
    "Формат входных данных\n",
    "- На вход программе ничего не подается.\n",
    "\n",
    "Формат выходных данных\n",
    "- Программа должна вывести сумму чисел из указанного файла.\n",
    "\n",
    "Примечание 1. Считайте, что исполняемая программа и указанный файл находятся в одной папке.\n",
    "\n",
    "Примечание 2. Не забудьте закрыть файл 🙂.\n",
    "\n",
    "Примечание 3. Указанный файл можно скачать по ссылке."
   ]
  },
  {
   "cell_type": "code",
   "execution_count": 93,
   "metadata": {},
   "outputs": [
    {
     "name": "stdout",
     "output_type": "stream",
     "text": [
      "453491626\n"
     ]
    }
   ],
   "source": [
    "file = open('nums.txt', 'r')\n",
    "\n",
    "print(sum([int(x.strip()) for x in file.readlines() if x.strip() != '']))\n",
    "file.close()"
   ]
  },
  {
   "cell_type": "markdown",
   "metadata": {},
   "source": [
    "**Общая стоимость**\n",
    "\n",
    "Вам доступен текстовый файл prices.txt с информацией о заказе из интернет магазина. В нем каждая строка с помощью символа табуляции (\\t) разделена на три колонки:\n",
    "<ol>\n",
    "<li>наименование товара;</li>\n",
    "<li>количество товара (целое число);</li>\n",
    "<li>цена (в рублях) товара за 1 шт (целое число).</li>\n",
    "</ol>\n",
    "Напишите программу, выводящую на экран общую стоимость заказа.\n",
    "\n",
    "Формат входных данных\n",
    "- На вход программе ничего не подается.\n",
    "\n",
    "Формат выходных данных\n",
    "- Программа должна вывести общую стоимость заказа.\n",
    "\n",
    "Примечание 1. Считайте, что исполняемая программа и указанный файл находятся в одной папке.\n",
    "\n",
    "Примечание 2. Не забудьте закрыть файл 🙂.\n",
    "\n",
    "Примечание 3. Указанный файл можно скачать по ссылке."
   ]
  },
  {
   "cell_type": "code",
   "execution_count": 103,
   "metadata": {},
   "outputs": [
    {
     "name": "stdout",
     "output_type": "stream",
     "text": [
      "1286800\n"
     ]
    }
   ],
   "source": [
    "file = open('prices.txt', 'r')\n",
    "\n",
    "print(sum([int(x.split('\\t')[-1]) * int(x.split('\\t')[1]) for x in file.readlines()]))\n",
    "file.close()"
   ]
  },
  {
   "cell_type": "markdown",
   "metadata": {},
   "source": [
    "# <h1><strong>17.3 Работа с текстовыми файлами. Часть 2</strong></h2>"
   ]
  },
  {
   "cell_type": "code",
   "execution_count": null,
   "metadata": {},
   "outputs": [],
   "source": []
  }
 ],
 "metadata": {
  "kernelspec": {
   "display_name": "venv",
   "language": "python",
   "name": "python3"
  },
  "language_info": {
   "codemirror_mode": {
    "name": "ipython",
    "version": 3
   },
   "file_extension": ".py",
   "mimetype": "text/x-python",
   "name": "python",
   "nbconvert_exporter": "python",
   "pygments_lexer": "ipython3",
   "version": "3.10.12"
  },
  "orig_nbformat": 4
 },
 "nbformat": 4,
 "nbformat_minor": 2
}
