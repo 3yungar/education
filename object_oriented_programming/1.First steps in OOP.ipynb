{
 "cells": [
  {
   "cell_type": "markdown",
   "metadata": {},
   "source": [
    "# <h1>1.3 Classes and objects. Attributes of classes and objects</h1>"
   ]
  },
  {
   "cell_type": "markdown",
   "metadata": {},
   "source": [
    "Task 3. Declare a class named DataBase, that contains the following information:\n",
    "\n",
    "```python\n",
    "pk: 1\n",
    "title: \"Классы и объекты\"\n",
    "author: \"Сергей Балакирев\"\n",
    "views: 14356\n",
    "comments: 12\n",
    "```\n",
    "\n",
    "Use the same variable names(attributes of the class) (pk, title, authoe, views and comments) with appropriate values."
   ]
  },
  {
   "cell_type": "code",
   "execution_count": 12,
   "metadata": {},
   "outputs": [],
   "source": [
    "class DataBase:\n",
    "    pk = 1\n",
    "    title = 'Классы и объекты'\n",
    "    author = 'Сергей Балакирев'\n",
    "    views = 14356\n",
    "    comments = 12"
   ]
  },
  {
   "cell_type": "markdown",
   "metadata": {},
   "source": [
    "Task 4. Declare a class named Goods and write the following attribute(variables) in it:\n",
    "\n",
    "```python\n",
    "title: \"Мороженое\"\n",
    "weight: 154\n",
    "tp: \"Еда\"\n",
    "price: 1024\n",
    "```\n",
    "Then, after declaring the class, change its attribute price to a value of 2048 and add another attribute:\n",
    "\n",
    "```python\n",
    "inflanation: 100\n",
    "```"
   ]
  },
  {
   "cell_type": "code",
   "execution_count": 1,
   "metadata": {},
   "outputs": [],
   "source": [
    "class Goods:\n",
    "    title = 'Мороженое'\n",
    "    weight = 154\n",
    "    tp = 'Еда'\n",
    "    price = 1024\n",
    "\n",
    "Goods.price = 2048\n",
    "Goods.inflation = 100\n",
    "# setattr(Goods, 'inflation', 100)"
   ]
  },
  {
   "cell_type": "code",
   "execution_count": 2,
   "metadata": {},
   "outputs": [
    {
     "data": {
      "text/plain": [
       "mappingproxy({'__module__': '__main__',\n",
       "              'title': 'Мороженое',\n",
       "              'weight': 154,\n",
       "              'tp': 'Еда',\n",
       "              'price': 2048,\n",
       "              '__dict__': <attribute '__dict__' of 'Goods' objects>,\n",
       "              '__weakref__': <attribute '__weakref__' of 'Goods' objects>,\n",
       "              '__doc__': None,\n",
       "              'inflation': 100})"
      ]
     },
     "execution_count": 2,
     "metadata": {},
     "output_type": "execute_result"
    }
   ],
   "source": [
    "Goods.__dict__"
   ]
  },
  {
   "cell_type": "markdown",
   "metadata": {},
   "source": [
    "Task 5. Declare an empty class named Car. Using the setattr() function, add attributes to this class:\n",
    "\n",
    "```python\n",
    "model: \"Toyota\"\n",
    "color: \"Розовый\"\n",
    "number: \"П111УУ77\"\n",
    "```\n",
    "Display the value of the attribute color, using the __dict__ dictionary of the Car class."
   ]
  },
  {
   "cell_type": "code",
   "execution_count": 11,
   "metadata": {},
   "outputs": [
    {
     "name": "stdout",
     "output_type": "stream",
     "text": [
      "Розовый\n"
     ]
    }
   ],
   "source": [
    "class Car:\n",
    "    pass\n",
    "\n",
    "setattr(Car, 'model', 'Тойота')\n",
    "setattr(Car, 'color', 'Розовый')\n",
    "setattr(Car, 'number', 'П111УУ77')\n",
    "print(Car.__dict__['color'])"
   ]
  },
  {
   "cell_type": "markdown",
   "metadata": {},
   "source": [
    "Task 6. Declare a class named Notes and define the following attribute in it:\n",
    "```python\n",
    "uid: 1005435\n",
    "title: \"Шутка\"\n",
    "author: \"И.С. Бах\"\n",
    "pages: 2\n",
    "```\n",
    "Then, using the getattr() function, read and display the value of the author attribute."
   ]
  },
  {
   "cell_type": "code",
   "execution_count": 13,
   "metadata": {},
   "outputs": [
    {
     "name": "stdout",
     "output_type": "stream",
     "text": [
      "И.С. Бах\n"
     ]
    }
   ],
   "source": [
    "class Notes:\n",
    "    uid = 1005435\n",
    "    title = 'Шутка'\n",
    "    author = 'И.С. Бах'\n",
    "    pages = 2\n",
    "\n",
    "print(getattr(Notes, 'author'))"
   ]
  },
  {
   "cell_type": "markdown",
   "metadata": {},
   "source": [
    "Task 7. Declare a class named Dictionary and define the following attribute in it:\n",
    "```python\n",
    "rus: 'Питон'\n",
    "eng: 'Python'\n",
    "```\n",
    "Then, using the getattr() function, read and display the value of the rus_word attribute. If there is no such attribute is not in the class, then getattr() function should return a boolean value of False. "
   ]
  },
  {
   "cell_type": "code",
   "execution_count": 14,
   "metadata": {},
   "outputs": [
    {
     "name": "stdout",
     "output_type": "stream",
     "text": [
      "False\n"
     ]
    }
   ],
   "source": [
    "class Dictionary:\n",
    "    rus = 'Питон'\n",
    "    eng = 'Python'\n",
    "\n",
    "print(getattr(Dictionary, 'rus_word', False))"
   ]
  },
  {
   "cell_type": "markdown",
   "metadata": {},
   "source": [
    "Task 8. Declare a class named TravelBlog and declare an attribute to it:\n",
    "```python\n",
    "total_blogs: 0\n",
    "```\n",
    "Create an instance of this class named tb1, form two local properties to it:\n",
    "```python\n",
    "name: 'Франция'\n",
    "days: 6\n",
    "```\n",
    "Increase the value of the total_blogs attribute of the TravelBlog class by one.\n",
    "\n",
    "Create another instance of TravelBlog class named tb2, form two local properties to it:\n",
    "```python\n",
    "name: 'Италия'\n",
    "days: 5\n",
    "```\n",
    "Increase a value of the total_blogs attribute the TravelBlog class by one more.\n",
    "\n",
    "P.S. You don`t need to display anything on the screen"
   ]
  },
  {
   "cell_type": "code",
   "execution_count": 27,
   "metadata": {},
   "outputs": [],
   "source": [
    "class TravelBlog:\n",
    "    total_blogs = 0\n",
    "\n",
    "tb1 = TravelBlog()\n",
    "tb1.name = 'Франция'\n",
    "tb1.days = 6\n",
    "\n",
    "TravelBlog.total_blogs += 1\n",
    "\n",
    "tb2 = TravelBlog()\n",
    "tb2.name = 'Италия'\n",
    "tb2.days = 5\n",
    "\n",
    "TravelBlog.total_blogs += 1"
   ]
  },
  {
   "cell_type": "markdown",
   "metadata": {},
   "source": [
    "Task 9. Declare a class with the name Figure and two attributes:\n",
    "```python\n",
    "type_fig: 'ellipse'\n",
    "color: 'red'\n",
    "```\n",
    "Create an instanse named fig1 of this class and add the following local attributes to it:\n",
    "```python\n",
    "start_pt: (10, 5)\n",
    "end_pt: (100, 20)\n",
    "color: 'blue'\n",
    "```\n",
    "Remove the color property from class instance and display a list of all local properties (without values) of the fig1 object in a single line, separated by a space, in the order specified in the task."
   ]
  },
  {
   "cell_type": "code",
   "execution_count": 5,
   "metadata": {},
   "outputs": [
    {
     "name": "stdout",
     "output_type": "stream",
     "text": [
      "start_pt end_pt\n"
     ]
    }
   ],
   "source": [
    "class Figure:\n",
    "    type_fig = 'ellipse'\n",
    "    color = 'red'\n",
    "\n",
    "fig1 = Figure()\n",
    "fig1.start_pt = (10, 5)\n",
    "fig1.end_pt = (100, 20)\n",
    "fig1.color = 'blue'\n",
    "\n",
    "if 'color' in  fig1.__dict__:\n",
    "    delattr(fig1, 'color')\n",
    "\n",
    "print(*fig1.__dict__.keys())"
   ]
  },
  {
   "cell_type": "markdown",
   "metadata": {},
   "source": [
    "Task 10. Declare a class named Person with attributes:\n",
    "```python\n",
    "name: 'Сергей Балакирев'\n",
    "job: 'Программист'\n",
    "city: 'Москва'\n",
    "```\n",
    "Create an instance p1 of this class and check whether it has a local property named job. Print True if it`s present in the object p1 and False if it is absent."
   ]
  },
  {
   "cell_type": "code",
   "execution_count": 25,
   "metadata": {},
   "outputs": [
    {
     "name": "stdout",
     "output_type": "stream",
     "text": [
      "False\n"
     ]
    }
   ],
   "source": [
    "class Person:\n",
    "    name = 'Сергей Балакирев'\n",
    "    job = 'Программист'\n",
    "    city = 'Москва'\n",
    "\n",
    "p1 = Person()\n",
    "\n",
    "print('job' in p1.__dict__)"
   ]
  },
  {
   "cell_type": "markdown",
   "metadata": {},
   "source": [
    "# <h1>1.4 Methods of classes. Parameter self</h1>"
   ]
  },
  {
   "cell_type": "markdown",
   "metadata": {},
   "source": [
    "Task 4. Declare a class named MediaPlayer with two methods:\n",
    "\n",
    "open(file) - for opening a media file named file (it creates a local filename property with the value of the file argument in the object of the MediaPlayer class)\n",
    "\n",
    "play() - to play the media file (it displays the line \"Воспроизведение <название медиа-файла>\")\n",
    "\n",
    "Create a two instances for this class with names: media1 and media2. Call the method open() from them with the argument \"filemedia1\" for the media1 object and \"filemedia2\" for the media2 object. After this, call the play() method through the objects. When you do so, two lines (without qoutes) should be displayed on the screen:\n",
    "```text\n",
    "\"Воспроизведение filemedia1\"\n",
    "\"Воспроизведение filemedia2\"\n",
    "```"
   ]
  },
  {
   "cell_type": "code",
   "execution_count": 1,
   "metadata": {},
   "outputs": [
    {
     "name": "stdout",
     "output_type": "stream",
     "text": [
      "Воспроизведение filemedia1\n",
      "Воспроизведение filemedia2\n"
     ]
    }
   ],
   "source": [
    "class MediaPlayer:\n",
    "    def open(self, file):\n",
    "        self.filename = file\n",
    "    \n",
    "    \n",
    "    def play(self):\n",
    "        print(f'Воспроизведение {self.filename}')\n",
    "\n",
    "media1 = MediaPlayer()\n",
    "media2 = MediaPlayer()\n",
    "\n",
    "media1.open('filemedia1')\n",
    "media2.open('filemedia2')\n",
    "media1.play()\n",
    "media2.play()"
   ]
  },
  {
   "cell_type": "markdown",
   "metadata": {},
   "source": [
    "Task 5. Declare a class named Graph with methods:\n",
    "\n",
    "**set_data(data)** - passing the dataset **data** for further display (**data** - is a list of numeric data)\n",
    "\n",
    "**draw()** - to display the data (in the same the order that in the **data** list)\n",
    "\n",
    "and attribute:\n",
    "```python\n",
    "LIMIT_Y=[0, 10]\n",
    "```\n",
    "The **set_data()** method should form the **data** local property of the object of the **Graph** class. The **data** attribute should refer to the list passed ot the method. The **draw()** method should display the list as string of numbers, which it`s separated at the spaces in a range the attribute **LIMIT_Y** (boarders are included).\n",
    "\n",
    "Create a **graph_1** object of the **Graph** class, call the **set_data** method for it and pass a list.\n",
    "```python\n",
    "[10, -5, 100, 20, 0, 80, 45, 2, 5, 7]\n",
    "```\n",
    "Then, call the **draw()** method through the **graph_1** object. A string should pop up on the screen with the corresponding set of the numbers written over a space. For example (the output without qoutes):\n",
    "\n",
    "\"10 0 2 5 7\""
   ]
  },
  {
   "cell_type": "code",
   "execution_count": 6,
   "metadata": {},
   "outputs": [
    {
     "name": "stdout",
     "output_type": "stream",
     "text": [
      "10 0 2 5 7\n"
     ]
    }
   ],
   "source": [
    "class Graph:\n",
    "    LIMIT_Y = [0, 10]\n",
    "\n",
    "    \n",
    "    def set_data(self, data):\n",
    "        self.data = data\n",
    "    \n",
    "\n",
    "    def draw(self):\n",
    "        self.data = [x for x in self.data if self.LIMIT_Y[0] <= x <= self.LIMIT_Y[1]]\n",
    "        print(*self.data)\n",
    "\n",
    "\n",
    "graph_1 = Graph()\n",
    "graph_1.set_data([10, -5, 100, 20, 0, 80, 45, 2, 5, 7])\n",
    "graph_1.draw()"
   ]
  },
  {
   "cell_type": "markdown",
   "metadata": {},
   "source": [
    "Task 7. Have the following class for reading information from the input flow:\n",
    "```python\n",
    "import sys\n",
    "\n",
    "\n",
    "class StreamReader:\n",
    "    FIELDS = ('id', 'title', 'pages')\n",
    "\n",
    "    def readlines(self):\n",
    "        lst_in = list(map(str.strip, sys.stdin.readlines()))  # считывание списка строк из входного потока\n",
    "        sd = StreamData()\n",
    "        res = sd.create(self.FIELDS, lst_in)\n",
    "        return sd, res\n",
    "```\n",
    "Which, then, can be used in the following way:\n",
    "\n",
    "```python\n",
    "sr = StreamReader()\n",
    "data, result = sr.readlines()\n",
    "```\n",
    "It is necessary to declare another **StreamData** class with a method before the **StreamReader** class:\n",
    "```python\n",
    "def create(self, fields, lst_values): ...\n",
    "``` \n",
    "that would get on input a **FILEDS** tuple from names of local attributes(passed to the attribute **fileds**) and a list of **lst_in** strings (passed to the **lst_values** attribute) and would form a local properties with names of fields from **fields** in the object of the **StreamData** class and the corresponding values from **lst_values**.\n",
    "\n",
    "If creating of local properties is going succsessfully, then **create()** method returns **True**, else - **False**. If the number of fields and the number of strings don`t match, then **create()** method returns **False** and don't need to create the local attributes.\n",
    "\n",
    "P.S. In the programm you need to declare an additional only the **streamData** class. You don`t need to do anything else."
   ]
  },
  {
   "cell_type": "code",
   "execution_count": 12,
   "metadata": {},
   "outputs": [
    {
     "name": "stdout",
     "output_type": "stream",
     "text": [
      "id 10\n",
      "title Питон - основы мастерства\n",
      "pages 512\n"
     ]
    }
   ],
   "source": [
    "import sys\n",
    "class StreamData:\n",
    "    def create(self, fields, lst_values):\n",
    "        if len(fields) != len(lst_values):\n",
    "            return False\n",
    "        \n",
    "        for field, value in zip(fields, lst_values):\n",
    "            print(field, value)\n",
    "        return True\n",
    "\n",
    "    \n",
    "\n",
    "class StreamReader:\n",
    "    FIELDS = ('id', 'title', 'pages')\n",
    "\n",
    "    def readlines(self):\n",
    "        # lst_in = list(map(str.strip, sys.stdin.readlines()))  # считывание списка строк из входного потока\n",
    "        lst_in = list(map(str.strip, [input() for _ in range(3)]))  # считывание списка строк из входного потока\n",
    "        sd = StreamData()\n",
    "        res = sd.create(self.FIELDS, lst_in)\n",
    "        return sd, res\n",
    "\n",
    "sr = StreamReader()\n",
    "data, result = sr.readlines()"
   ]
  },
  {
   "cell_type": "code",
   "execution_count": 11,
   "metadata": {},
   "outputs": [
    {
     "data": {
      "text/plain": [
       "{}"
      ]
     },
     "execution_count": 11,
     "metadata": {},
     "output_type": "execute_result"
    }
   ],
   "source": [
    "sr.__dict__"
   ]
  }
 ],
 "metadata": {
  "kernelspec": {
   "display_name": "venv",
   "language": "python",
   "name": "python3"
  },
  "language_info": {
   "codemirror_mode": {
    "name": "ipython",
    "version": 3
   },
   "file_extension": ".py",
   "mimetype": "text/x-python",
   "name": "python",
   "nbconvert_exporter": "python",
   "pygments_lexer": "ipython3",
   "version": "3.10.12"
  },
  "orig_nbformat": 4
 },
 "nbformat": 4,
 "nbformat_minor": 2
}
