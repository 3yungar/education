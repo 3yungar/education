{
 "cells": [
  {
   "cell_type": "markdown",
   "metadata": {},
   "source": [
    "# <h1><strong>17.2 Работа с текстовыми файлами.Часть 1</strong></h1>"
   ]
  },
  {
   "cell_type": "markdown",
   "metadata": {},
   "source": [
    "<strong>Содержимое файла</strong>\n",
    "\n",
    "На вход программе подается строка с именем текстового файла. Напишите программу, которая выводит на экран его содержимое.\n",
    "\n",
    "Формат входных данных\n",
    "- На вход программе подается строка текста с именем существующего текстового файла.\n",
    "\n",
    "Формат выходных данных\n",
    "- Программа должна вывести содержимое указанного файла.\n",
    "\n",
    "Примечание 1. Считайте, что исполняемая программа и указанный файл находятся в одной папке.\n",
    "\n",
    "Примечание 2. Не забудьте закрыть файл 🙂."
   ]
  },
  {
   "cell_type": "code",
   "execution_count": 91,
   "metadata": {},
   "outputs": [
    {
     "name": "stdout",
     "output_type": "stream",
     "text": [
      "/home/aleksandr/my_projects/education/python_advanced/data\n"
     ]
    }
   ],
   "source": [
    "%cd data"
   ]
  },
  {
   "cell_type": "code",
   "execution_count": 92,
   "metadata": {},
   "outputs": [
    {
     "name": "stdout",
     "output_type": "stream",
     "text": [
      "Hello, world!\n",
      "Python 3.10 had installed in this distributive.\n",
      "Then nessesary libraries was installed in this virtual environment!\n",
      "\n"
     ]
    }
   ],
   "source": [
    "filename = input()\n",
    "\n",
    "file = open(filename, 'r')\n",
    "print(file.read())\n",
    "file.close()"
   ]
  },
  {
   "cell_type": "markdown",
   "metadata": {},
   "source": [
    "**Предпоследняя строка**\n",
    "\n",
    "На вход программе подается строка с именем текстового файла. Напишите программу, которая выводит на экран его предпоследнюю строку.\n",
    "\n",
    "Формат входных данных\n",
    "- На вход программе подается строка текста с именем существующего текстового файла.\n",
    "\n",
    "Формат выходных данных\n",
    "- Программа должна вывести предпоследнюю строку указанного файла.\n",
    "\n",
    "Примечание 1. Считайте, что исполняемая программа и указанный файл находятся в одной папке.\n",
    "\n",
    "Примечание 2. Гарантируется, что файл содержит хотя бы две строки.\n",
    "\n",
    "Примечание 3. Не забудьте закрыть файл 🙂."
   ]
  },
  {
   "cell_type": "code",
   "execution_count": 16,
   "metadata": {},
   "outputs": [
    {
     "name": "stdout",
     "output_type": "stream",
     "text": [
      "Python 3.10 had installed in this distributive.\n",
      "\n"
     ]
    }
   ],
   "source": [
    "filename = input()\n",
    "\n",
    "file = open(filename, 'r')\n",
    "print(file.readlines()[-2])\n",
    "file.close()"
   ]
  },
  {
   "cell_type": "markdown",
   "metadata": {},
   "source": [
    "**Случайная строка**\n",
    "\n",
    "Вам доступен текстовый файл lines.txt из нескольких строк. Напишите программу, которая выводит на экран случайную строку из этого файла.\n",
    "\n",
    "- Формат входных данных\n",
    "На вход программе ничего не подается.\n",
    "\n",
    "- Формат выходных данных\n",
    "Программа должна вывести случайную строку указанного файла.\n",
    "\n",
    "Примечание 1. Считайте, что исполняемая программа и указанный файл находятся в одной папке.\n",
    "\n",
    "Примечание 2. Гарантируется, что файл содержит хотя бы одну строку.\n",
    "\n",
    "Примечание 3. Не забудьте закрыть файл 🙂.\n",
    "\n",
    "Примечание 4. Указанный файл можно скачать по ссылке."
   ]
  },
  {
   "cell_type": "code",
   "execution_count": 77,
   "metadata": {},
   "outputs": [
    {
     "name": "stdout",
     "output_type": "stream",
     "text": [
      "Иногда среднее тире называют коротким тире\n",
      "\n"
     ]
    }
   ],
   "source": [
    "from random import randrange\n",
    "\n",
    "file = open('lines.txt', 'r')\n",
    "rows = file.readlines()\n",
    "print(rows[randrange(len(rows))])\n",
    "file.close()"
   ]
  },
  {
   "cell_type": "markdown",
   "metadata": {},
   "source": [
    "**Сумма двух-1**\n",
    "\n",
    "Вам доступен текстовый файл numbers.txt из двух строк, на каждой из них записано целое число. Напишите программу, выводящую на экран сумму этих чисел.\n",
    "\n",
    "Формат входных данных\n",
    "- На вход программе ничего не подается.\n",
    "\n",
    "Формат выходных данных\n",
    "- Программа должна вывести сумму чисел из указанного файла.\n",
    "\n",
    "Примечание 1. Считайте, что исполняемая программа и указанный файл находятся в одной папке.\n",
    "\n",
    "Примечание 2. Не забудьте закрыть файл 🙂.\n",
    "\n",
    "Примечание 3. Указанный файл можно скачать по ссылке."
   ]
  },
  {
   "cell_type": "code",
   "execution_count": 81,
   "metadata": {},
   "outputs": [
    {
     "name": "stdout",
     "output_type": "stream",
     "text": [
      "491000626\n"
     ]
    }
   ],
   "source": [
    "file = open('numbers.txt', 'r')\n",
    "\n",
    "print(sum(map(int, file.readlines())))\n",
    "file.close()"
   ]
  },
  {
   "cell_type": "markdown",
   "metadata": {},
   "source": [
    "**Сумма двух-2**\n",
    "\n",
    "Вам доступен текстовый файл nums.txt. В файле записано два целых числа, они могут быть разделены символами пробела и конца строки. Напишите программу, выводящую на экран сумму этих чисел.\n",
    "\n",
    "Формат входных данных\n",
    "- На вход программе ничего не подается.\n",
    "\n",
    "Формат выходных данных\n",
    "- Программа должна вывести сумму чисел из указанного файла.\n",
    "\n",
    "Примечание 1. Считайте, что исполняемая программа и указанный файл находятся в одной папке.\n",
    "\n",
    "Примечание 2. Не забудьте закрыть файл 🙂.\n",
    "\n",
    "Примечание 3. Указанный файл можно скачать по ссылке."
   ]
  },
  {
   "cell_type": "code",
   "execution_count": 93,
   "metadata": {},
   "outputs": [
    {
     "name": "stdout",
     "output_type": "stream",
     "text": [
      "453491626\n"
     ]
    }
   ],
   "source": [
    "file = open('nums.txt', 'r')\n",
    "\n",
    "print(sum([int(x.strip()) for x in file.readlines() if x.strip() != '']))\n",
    "file.close()"
   ]
  },
  {
   "cell_type": "markdown",
   "metadata": {},
   "source": [
    "**Общая стоимость**\n",
    "\n",
    "Вам доступен текстовый файл prices.txt с информацией о заказе из интернет магазина. В нем каждая строка с помощью символа табуляции (\\t) разделена на три колонки:\n",
    "<ol>\n",
    "<li>наименование товара;</li>\n",
    "<li>количество товара (целое число);</li>\n",
    "<li>цена (в рублях) товара за 1 шт (целое число).</li>\n",
    "</ol>\n",
    "Напишите программу, выводящую на экран общую стоимость заказа.\n",
    "\n",
    "Формат входных данных\n",
    "- На вход программе ничего не подается.\n",
    "\n",
    "Формат выходных данных\n",
    "- Программа должна вывести общую стоимость заказа.\n",
    "\n",
    "Примечание 1. Считайте, что исполняемая программа и указанный файл находятся в одной папке.\n",
    "\n",
    "Примечание 2. Не забудьте закрыть файл 🙂.\n",
    "\n",
    "Примечание 3. Указанный файл можно скачать по ссылке."
   ]
  },
  {
   "cell_type": "code",
   "execution_count": 103,
   "metadata": {},
   "outputs": [
    {
     "name": "stdout",
     "output_type": "stream",
     "text": [
      "1286800\n"
     ]
    }
   ],
   "source": [
    "file = open('prices.txt', 'r')\n",
    "\n",
    "print(sum([int(x.split('\\t')[-1]) * int(x.split('\\t')[1]) for x in file.readlines()]))\n",
    "file.close()"
   ]
  },
  {
   "cell_type": "markdown",
   "metadata": {},
   "source": [
    "# <h1><strong>17.3 Работа с текстовыми файлами. Часть 2</strong></h2>"
   ]
  },
  {
   "cell_type": "markdown",
   "metadata": {},
   "source": [
    "**Переворот строки**\n",
    "\n",
    "Вам доступен текстовый файл text.txt с одной строкой текста. Напишите программу, которая выводит на экран эту строку в обратном порядке.\n",
    "\n",
    "Формат входных данных\n",
    "- На вход программе ничего не подается.\n",
    "\n",
    "Формат выходных данных\n",
    "- Программа должна вывести строку указанного файла в обратном порядке.\n",
    "\n",
    "Примечание 1. Считайте, что исполняемая программа и указанный файл находятся в одной папке.\n",
    "\n",
    "Примечание 2. Используйте менеджер контекста 🙂.\n",
    "\n",
    "Примечание 3. Указанный файл можно скачать по ссылке."
   ]
  },
  {
   "cell_type": "code",
   "execution_count": 3,
   "metadata": {},
   "outputs": [
    {
     "name": "stdout",
     "output_type": "stream",
     "text": [
      "/home/aleksandr/my_projects/education/python_advanced/data\n"
     ]
    }
   ],
   "source": [
    "%cd data"
   ]
  },
  {
   "cell_type": "code",
   "execution_count": 5,
   "metadata": {},
   "outputs": [
    {
     "name": "stdout",
     "output_type": "stream",
     "text": [
      ".enil hcae fo rettel tsrif eht tuo tnirp dna txt.egassem_terces daeR\n"
     ]
    }
   ],
   "source": [
    "with open('text.txt', 'r') as file:\n",
    "    print(file.read()[::-1])"
   ]
  },
  {
   "cell_type": "markdown",
   "metadata": {},
   "source": [
    "**Обратный порядок**\n",
    "\n",
    "Вам доступен текстовый файл data.txt, в котором записаны строки текста. Напишите программу, выводящую все строки данного файла в обратном порядке: сначала последнюю, затем предпоследнюю и т.д.\n",
    "\n",
    "Формат входных данных\n",
    "- На вход программе ничего не подается.\n",
    "\n",
    "Формат выходных данных\n",
    "- Программа должна вывести строки указанного файла в обратном порядке.\n",
    "\n",
    "Примечание 1. Считайте, что исполняемая программа и указанный файл находятся в одной папке.\n",
    "\n",
    "Примечание 2. Используйте менеджер контекста 🙂.\n",
    "\n",
    "Примечание 3. Получить список всех строк файла можно при помощи метода readlines().\n",
    "\n",
    "Примечание 4. Не забывайте про символ конца строки '\\n'.\n",
    "\n",
    "Примечание 5. Указанный файл можно скачать по ссылке."
   ]
  },
  {
   "cell_type": "code",
   "execution_count": 6,
   "metadata": {},
   "outputs": [
    {
     "name": "stdout",
     "output_type": "stream",
     "text": [
      "Complex is better than complicated.\n",
      "Simple is better than complex.\n",
      "Explicit is better than implicit.\n",
      "Beautiful is better than ugly.\n"
     ]
    }
   ],
   "source": [
    "with open('data.txt', 'r') as file:\n",
    "    for row in file.readlines()[::-1]:\n",
    "        print(row.strip())"
   ]
  },
  {
   "cell_type": "markdown",
   "metadata": {},
   "source": [
    "**Длинные строки**\n",
    "\n",
    "Вам доступен текстовый файл lines.txt, в котором записаны строки текста. Напишите программу, которая выводит все строки наибольшей длины из файла, не меняя их порядок.\n",
    "\n",
    "Формат входных данных\n",
    "- На вход программе ничего не подается.\n",
    "\n",
    "Формат выходных данных\n",
    "- Программа должна вывести строки указанного файла, имеющие наибольшую длину, не меняя их порядка.\n",
    "\n",
    "Примечание 1. Считайте, что исполняемая программа и указанный файл находятся в одной папке.\n",
    "\n",
    "Примечание 2. Используйте менеджер контекста 🙂.\n",
    "\n",
    "Примечание 3. Если бы файл lines.txt содержал строки:\n",
    "```python\n",
    "One\n",
    "Twenty one\n",
    "Two\n",
    "Twenty two\n",
    "```\n",
    "то результатом будет:\n",
    "```python\n",
    "Twenty one\n",
    "Twenty two\n",
    "```\n",
    "Примечание 4. Указанный файл можно скачать по ссылке. "
   ]
  },
  {
   "cell_type": "code",
   "execution_count": 16,
   "metadata": {},
   "outputs": [
    {
     "name": "stdout",
     "output_type": "stream",
     "text": [
      "believe in their..\n",
      "Life is what 12345\n",
      "better than ugly!!\n",
      "Explicit is better\n"
     ]
    }
   ],
   "source": [
    "with open('lines.txt', 'r', encoding='utf-8') as file:\n",
    "    max_len = 0\n",
    "    answers = []\n",
    "    for row in file.readlines():\n",
    "        row = row.strip()\n",
    "        if len(row) > max_len:\n",
    "            max_len = len(row)\n",
    "            answers = [row]\n",
    "            continue\n",
    "        if len(row) == max_len:\n",
    "            answers.append(row)\n",
    "    print(*answers, sep='\\n')"
   ]
  },
  {
   "cell_type": "markdown",
   "metadata": {},
   "source": [
    "**Сумма чисел в строках**\n",
    "\n",
    "Вам доступен текстовый файл numbers.txt, каждая строка которого может содержать одно или несколько целых чисел, разделенных одним или несколькими пробелами.\n",
    "\n",
    "Напишите программу, которая вычисляет сумму чисел в каждой строке и выводит эту сумму на экран (для каждой строки выводится сумма чисел в этой строке).\n",
    "\n",
    "Формат входных данных\n",
    "- На вход программе ничего не подается.\n",
    "\n",
    "Формат выходных данных\n",
    "- Программа должна вывести сумму чисел в каждой строке.\n",
    "\n",
    "Примечание 1. Если бы файл numbers.txt содержал строки:\n",
    "```python\n",
    "2 1\n",
    "     3    4\n",
    " 1       7\n",
    "```\n",
    "то результатом было бы:\n",
    "\n",
    "```python\n",
    "3\n",
    "7\n",
    "8\n",
    "```\n",
    "Примечание 2. Указанный файл можно скачать по ссылке. "
   ]
  },
  {
   "cell_type": "code",
   "execution_count": 21,
   "metadata": {},
   "outputs": [
    {
     "name": "stdout",
     "output_type": "stream",
     "text": [
      "256\n",
      "78\n",
      "114\n",
      "15\n",
      "1089\n"
     ]
    }
   ],
   "source": [
    "with open('numbers.txt', 'r', encoding='utf-8') as file:\n",
    "    [print(sum([int(digit) for digit in row.split() if digit !=''])) for row in file.readlines()]"
   ]
  },
  {
   "cell_type": "markdown",
   "metadata": {},
   "source": [
    "**Сумма чисел в файле**\n",
    "\n",
    "Вам доступен текстовый файл nums.txt. В файле могут быть записаны целые неотрицательные числа и все, что угодно. Числом назовем последовательность одной и более цифр, идущих подряд (число всегда неотрицательно).\n",
    "\n",
    "Напишите программу, которая вычисляет сумму всех чисел, записанных в файле.\n",
    "\n",
    "Формат входных данных\n",
    "- На вход программе ничего не подается.\n",
    "\n",
    "Формат выходных данных\n",
    "- Программа должна вывести сумму всех чисел, записанных в файле.\n",
    "\n",
    "Примечание 1. Если бы файл nums.txt содержал строки:\n",
    "\n",
    "```python\n",
    "123   jhjk\n",
    "bhjip456qwerty\n",
    "1x2y3 4 5 6\n",
    "sfsd 0 dfgfd\n",
    "10abc20de30pop5 5 5 5\n",
    "```\n",
    "то результатом было бы:\n",
    "\n",
    "```python \n",
    "680\n",
    "```\n",
    "\n",
    "Примечание 2. Указанный файл можно скачать по ссылке. \n",
    "\n"
   ]
  },
  {
   "cell_type": "code",
   "execution_count": 24,
   "metadata": {},
   "outputs": [
    {
     "name": "stdout",
     "output_type": "stream",
     "text": [
      "124410\n"
     ]
    }
   ],
   "source": [
    "with open('nums.txt', 'r', encoding='utf-8') as file:\n",
    "    nums = ''\n",
    "    for letter in file.read():\n",
    "        nums += letter if letter.isdigit() else ' '\n",
    "    print(sum([int(x) for x in nums.split()]))"
   ]
  },
  {
   "cell_type": "markdown",
   "metadata": {},
   "source": [
    "**Статистика по файлу**\n",
    "\n",
    "Вам доступен текстовый файл file.txt, набранный латиницей. Напишите программу, которая выводит количество букв латинского алфавита, слов и строк. Выведите три найденных числа в формате, приведенном в примере.\n",
    "\n",
    "Формат входных данных\n",
    "- На вход программе ничего не подается.\n",
    "\n",
    "Формат выходных данных\n",
    "- Программа должна вывести три найденных числа в формате, приведенном в примере.\n",
    "\n",
    "Примечание 1. Если бы файл file.txt содержал строки:\n",
    "\n",
    "```text\n",
    "Beautiful is better than ugly.\n",
    "Explicit is better than implicit.\n",
    "Simple is better than complex.\n",
    "Complex is better than complicated.\n",
    "```\n",
    "то результатом было бы:\n",
    "\n",
    "```text\n",
    "Input file contains:\n",
    "108 letters \n",
    "20 words \n",
    "4 lines\n",
    "```\n",
    "Примечание 2. Словом называется последовательность из непробельных символов. Например, строка\n",
    "\n",
    "```text\n",
    "abc a21 67pop    qwert bo7ok 83456\n",
    "```\n",
    "\n",
    "содержит 6 слов: \n",
    "```text\n",
    "abc, a21, 67pop, qwert, bo7ok, 83456.\n",
    "```\n",
    "Примечание 3. Указанный файл можно скачать по ссылке."
   ]
  },
  {
   "cell_type": "code",
   "execution_count": 52,
   "metadata": {},
   "outputs": [
    {
     "name": "stdout",
     "output_type": "stream",
     "text": [
      "Input file contains:\n",
      "1069 letters\n",
      "229 words\n",
      "12 lines\n"
     ]
    }
   ],
   "source": [
    "with open('file.txt', 'r', encoding='utf-8') as file:\n",
    "    lines, words, letters = 0, 0, 0\n",
    "    for row in file.readlines():\n",
    "        lines += 1\n",
    "        for word in row.split():\n",
    "            words += 1\n",
    "            for letter in word:\n",
    "                if letter.isalpha():\n",
    "                    letters += 1\n",
    "    \n",
    "    print(f'''Input file contains:\\n{letters} letters\\n{words} words\\n{lines} lines''')"
   ]
  },
  {
   "cell_type": "markdown",
   "metadata": {},
   "source": [
    "**Random name and surname**\n",
    "\n",
    "Вам доступны два текстовых файла first_names.txt и last_names.txt, один с именами, другой с фамилиями.\n",
    "\n",
    "Напишите программу, которая c помощью модуля random создает \n",
    "3 случайные пары имя + фамилия, а затем выводит их, каждую на отдельной строке.\n",
    "\n",
    "Формат входных данных\n",
    "- На вход программе ничего не подается.\n",
    "\n",
    "Формат выходных данных\n",
    "- Программа должна вывести текст в формате, приведенном в примере.\n",
    "\n",
    "Примечание 1. Если бы файлы first_names.txt и last_names.txt содержали строки:\n",
    "\n",
    "```text\n",
    "Aaron\n",
    "Abdul\n",
    "Abe\n",
    "Abel\n",
    "Abraham\n",
    "Albert\n",
    "```\n",
    "и\n",
    "\n",
    "```text\n",
    "Abramson\n",
    "Adamson\n",
    "Adderiy\n",
    "Addington\n",
    "Adrian\n",
    "Albertson\n",
    "Einstein\n",
    "```\n",
    "то результатом могло быть:\n",
    "\n",
    "```text\n",
    "Abdul Albertson\n",
    "Abel Adamson\n",
    "Albert Einstein\n",
    "```\n",
    "Примечание 2. Указанные файлы можно скачать по ссылкам (имена, фамилии)."
   ]
  },
  {
   "cell_type": "code",
   "execution_count": 109,
   "metadata": {},
   "outputs": [
    {
     "name": "stdout",
     "output_type": "stream",
     "text": [
      "Abe Tracey\n",
      "Freddie Swann\n",
      "Freddie Sutton\n"
     ]
    }
   ],
   "source": [
    "import random\n",
    "\n",
    "with open('first_names.txt', 'r') as ffile, open('last_names.txt', 'r') as lfile:\n",
    "    first_names = ffile.readlines()\n",
    "    last_names = lfile.readlines()\n",
    "    for _ in range(3):\n",
    "        print(random.choice(first_names).strip() + ' ' + random.choice(last_names).strip())"
   ]
  },
  {
   "cell_type": "markdown",
   "metadata": {},
   "source": [
    "**Необычные страны**\n",
    "\n",
    "Вам доступен текстовый файл population.txt с названиями стран и численностью их населения, разделенными символом табуляции '\\t'.\n",
    "\n",
    "Напишите программу выводящую все страны, название которых начинается с буквы 'G', численность населения которых больше чем \n",
    "500000 человек, не меняя их порядок.\n",
    "\n",
    "Формат входных данных\n",
    "- На вход программе ничего не подается.\n",
    "\n",
    "Формат выходных данных\n",
    "- Программа должна вывести названия стран, удовлетворяющие условиям задачи, каждое на отдельное строке.\n",
    "\n",
    "Примечание. Указанный файл можно скачать по ссылке."
   ]
  },
  {
   "cell_type": "code",
   "execution_count": 115,
   "metadata": {},
   "outputs": [
    {
     "name": "stdout",
     "output_type": "stream",
     "text": [
      "Germany\n",
      "Ghana\n",
      "Guatemala\n",
      "Greece\n",
      "Guinea\n",
      "Georgia\n",
      "Guinea-Bissau\n",
      "Gabon\n",
      "Guyana\n"
     ]
    }
   ],
   "source": [
    "with open('population.txt', 'r', encoding='utf8') as file:\n",
    "    for row in file.readlines():\n",
    "        country, population = row.strip().split('\\t')\n",
    "        if country[0] == 'G' and int(population) > 500000:\n",
    "            print(country)"
   ]
  },
  {
   "cell_type": "markdown",
   "metadata": {},
   "source": [
    "**CSV-файл**\n",
    "\n",
    "Вам доступен CSV-файл data.csv, содержащий информацию в csv формате. Напишите функцию read_csv для чтения данных из этого файла. Она должна возвращать список словарей, интерпретируя первую строку как имена ключей, а каждую последующую строку как значения этих ключей.\n",
    "\n",
    "Формат входных данных\n",
    "- На вход программе ничего не подается.\n",
    "\n",
    "Формат выходных данных\n",
    "- Программа должна содержать реализованную функцию read_csv.\n",
    "\n",
    "Примечание 1. Вызывать функцию read_csv не нужно.\n",
    "\n",
    "Примечание 2. Функция read_csv не должна принимать аргументов. \n",
    "\n",
    "Примечание 3. Подробнее прочитать про CSV-файлы можно тут.\n",
    "\n",
    "Примечание 4. Считайте, что все ключи и значения по этим ключам в результирующем словаре имеют строковый тип (str).\n",
    "\n",
    "Примечание 5. Указанный файл можно скачать по ссылке.\n",
    "\n",
    "Примечание 6. Если бы файл data.csv содержал информацию\n",
    "\n",
    "```text\n",
    "name,address,age\n",
    "George,4312 Abbey Road,22\n",
    "John,54 Love Ave,21\n",
    "```\n",
    "то вызов функции read_csv() вернул бы список:\n",
    "\n",
    "```python\n",
    "[{'name': 'George', 'address': '4312 Abbey Road', 'age': '22'}, {'name': 'John', 'address': '54 Love Ave', 'age': '21'}]\n",
    "```"
   ]
  },
  {
   "cell_type": "code",
   "execution_count": 151,
   "metadata": {},
   "outputs": [],
   "source": [
    "def read_csv():\n",
    "    with open('data.csv', 'r', encoding='utf-8') as file:\n",
    "        df = []\n",
    "        data = file.readlines()\n",
    "        keys = data[0].strip('\\n').split(',')\n",
    "\n",
    "        for row in data[1:]:\n",
    "            values = row.strip('\\n').split(',')\n",
    "            loc = dict(zip(keys, values))\n",
    "            df.append(loc)\n",
    "    return df\n",
    "# read_csv()"
   ]
  },
  {
   "cell_type": "markdown",
   "metadata": {},
   "source": [
    "# <h1><strong>17.4 Работа с текстовыми файлами</strong></h1>"
   ]
  },
  {
   "cell_type": "markdown",
   "metadata": {},
   "source": [
    "**Входная строка**\n",
    "\n",
    "Напишите программу, которая считывает строку текста и записывает её в текстовый файл output.txt.\n",
    "\n",
    "Формат входных данных\n",
    "- На вход программе подается строка текста.\n",
    "\n",
    "Формат выходных данных\n",
    "- Программа должна создать файл с именем output.txt и записать в него считанную строку текста.\n",
    "\n",
    "Примечание. Считайте, что исполняемая программа и указанный файл находятся в одной папке."
   ]
  },
  {
   "cell_type": "code",
   "execution_count": 2,
   "metadata": {},
   "outputs": [
    {
     "name": "stdout",
     "output_type": "stream",
     "text": [
      "/home/aleksandr/my_projects/education/python_advanced/data\n"
     ]
    }
   ],
   "source": [
    "%cd data"
   ]
  },
  {
   "cell_type": "code",
   "execution_count": 3,
   "metadata": {},
   "outputs": [],
   "source": [
    "text = input()\n",
    "\n",
    "with open('output.txt', 'w', encoding='utf-8') as output:\n",
    "    output.write(text)"
   ]
  },
  {
   "cell_type": "markdown",
   "metadata": {},
   "source": [
    "**Случайные числа**\n",
    "\n",
    "Напишите программу, записывающую в текстовый файл random.txt \n",
    "25 случайных чисел в диапазоне от \n",
    "111 до \n",
    "777 (включительно), каждое с новой строки.\n",
    "\n",
    "Формат входных данных\n",
    "- На вход программе ничего не подается.\n",
    "\n",
    "Формат выходных данных\n",
    "- Программа должна создать файл с именем random.txt и записать в него случайные числа в соответствии с условием задачи.\n",
    "\n",
    "Примечание 1. Считайте, что исполняемая программа и указанный файл находятся в одной папке.\n",
    "\n",
    "Примечание 2. Для генерации случайных чисел используйте модуль random."
   ]
  },
  {
   "cell_type": "code",
   "execution_count": 31,
   "metadata": {},
   "outputs": [],
   "source": [
    "import random\n",
    "\n",
    "with open('random.txt', 'w', encoding='utf-8') as output:\n",
    "    [print(random.randrange(111, 778), file=output) for _ in range(25)]"
   ]
  },
  {
   "cell_type": "markdown",
   "metadata": {},
   "source": [
    "**Нумерация строк**\n",
    "\n",
    "Вам доступен текстовый файл input.txt, состоящий из нескольких строк. Напишите программу для записи содержимого этого файла в файл output.txt в виде нумерованного списка, где перед каждой строкой стоит ее номер, символ ) и пробел. Нумерация строк должна начинаться с 1.\n",
    "\n",
    "Формат входных данных\n",
    "- На вход программе ничего не подается.\n",
    "\n",
    "Формат выходных данных\n",
    "- Программа должна создать файл с именем output.txt и записать в него пронумерованные строки файла input.txt.\n",
    "\n",
    "Примечание 1. Считайте, что исполняемая программа и указанные файлы находятся в одной папке.\n",
    "\n",
    "Примечание 2. Используйте встроенную функцию enumerate().\n",
    "\n",
    "Примечание 3. Если бы файл input.txt содержал строки:\n",
    "```text\n",
    "Beautiful is better than ugly.\n",
    "Explicit is better than implicit.\n",
    "Simple is better than complex.\n",
    "Complex is better than complicated.\n",
    "```\n",
    "то файл output.txt имел бы вид:\n",
    "```text\n",
    "1) Beautiful is better than ugly.\n",
    "2) Explicit is better than implicit.\n",
    "3) Simple is better than complex.\n",
    "4) Complex is better than complicated.\n",
    "```\n",
    "Примечание 4. Указанный файл можно скачать по ссылке."
   ]
  },
  {
   "cell_type": "code",
   "execution_count": 65,
   "metadata": {},
   "outputs": [],
   "source": [
    "with open('input.txt', 'r', encoding='utf-8') as datafile, open('output.txt', 'w', encoding='utf-8') as output:\n",
    "    for count, row in enumerate(datafile.readlines()):\n",
    "        print(f'{count + 1}) ' + row.strip(), file=output)"
   ]
  },
  {
   "cell_type": "code",
   "execution_count": 66,
   "metadata": {},
   "outputs": [
    {
     "name": "stdout",
     "output_type": "stream",
     "text": [
      "1) abcd\n",
      "2) xcnvmnvkje\n",
      "3) 32432423\n",
      "4) sdflsdjkn34r43\n",
      "5) 345349854395#$%$#\n",
      "6) jksdfkjsdfkjsd\n",
      "7) lwerjlwerlkwe\n",
      "8) jwfhjkwehkjwefkjwebfjkwe\n",
      "9) djdddddddddddddddddddddddddddddddd\n",
      "10) 3249835438594390583490583490853490582349058340\n",
      "11) sdfsjkldflksdjaflkjsdflkjsdlfkjsdlfjsldfsldkfjlsdkfjls\n",
      "\n"
     ]
    }
   ],
   "source": [
    "with open('output.txt', 'r', encoding='utf-8') as datafile:\n",
    "    print(datafile.read())"
   ]
  },
  {
   "cell_type": "markdown",
   "metadata": {},
   "source": [
    "**Подарок на новый год**\n",
    "\n",
    "Вам доступен текстовый файл class_scores.txt с оценками за итоговый тест на строках вида: фамилия оценка (фамилия и оценка разделены пробелом). Оценка - целое число от 0 до 100 включительно.\n",
    "\n",
    "Напишите программу для добавления 5 баллов к каждому результату теста и вывода фамилий и новых результатов тестов в файл new_scores.txt.\n",
    "\n",
    "Формат входных данных\n",
    "- На вход программе ничего не подается.\n",
    "\n",
    "Формат выходных данных\n",
    "- Программа должна создать файл с именем new_scores.txt в соответствии с условием задачи.\n",
    "\n",
    "Примечание 1. Считайте, что исполняемая программа и указанные файлы находятся в одной папке.\n",
    "\n",
    "Примечание 2. Если бы файл class_scores.txt содержал строки:\n",
    "\n",
    "```text\n",
    "Washington 83\n",
    "Adams 86\n",
    "Kingsman 100\n",
    "MacDonald 95\n",
    "Thomson 98\n",
    "```\n",
    "то файл new_scores.txt имел бы вид:\n",
    "```text\n",
    "Washington 88\n",
    "Adams 91\n",
    "Kingsman 100\n",
    "MacDonald 100\n",
    "Thomson 100\n",
    "```\n",
    "Примечание 3. Указанный файл можно скачать по ссылке."
   ]
  },
  {
   "cell_type": "code",
   "execution_count": 70,
   "metadata": {},
   "outputs": [],
   "source": [
    "with open('class_scores.txt', 'r', encoding='utf-8') as data, open('new_scores.txt', 'w', encoding='utf-8') as output:\n",
    "    for student in data.readlines():\n",
    "        name, mark = student.strip().split()\n",
    "        mark = min(100, int(mark) + 5)\n",
    "        print(f'{name} {mark}', file=output) "
   ]
  },
  {
   "cell_type": "code",
   "execution_count": 69,
   "metadata": {},
   "outputs": [
    {
     "name": "stdout",
     "output_type": "stream",
     "text": [
      "Гуев 100\n",
      "Маргиев 100\n",
      "Чаниев 100\n",
      "Тепсикоев 99\n",
      "Левитский 85\n",
      "Габолаев 5\n",
      "Хлюстова 15\n",
      "Гергиева 90\n",
      "\n"
     ]
    }
   ],
   "source": [
    "with open('new_scores.txt', 'r', encoding='utf-8') as datafile:\n",
    "    print(datafile.read())"
   ]
  },
  {
   "cell_type": "markdown",
   "metadata": {},
   "source": [
    "**Загадка от Жака Фреско 🌶️**\n",
    "\n",
    "Однажды Жака Фреско спросили:\n",
    "\n",
    "\"Если ты такой умный, почему не богатый?\"\n",
    "\n",
    "Жак не стал отвечать на столь провокационный вопрос, вместо этого он задал загадку спрашивающему:\n",
    "\n",
    "\"Были разноцветные козлы. Сколько?\"\n",
    "\n",
    "\"Сколько чего?\"\n",
    "\n",
    "\"Сколько из них составляет более 7% от общего количества козлов?\"\n",
    "\n",
    "Вам доступен текстовый файл goats.txt в первой строке которого написано слово COLOURS, далее идет список всех возможных цветов козлов. Затем идет строка со словом GOATS, и далее непосредственно перечисление козлов разных цветов. Перечень козлов включает только строки из первого списка.\n",
    "\n",
    "Напишите программу создания файла answer.txt и вывода в него списка козлов, которые удовлетворяют условию загадки от Жака Фреско.\n",
    "\n",
    "Формат входных данных\n",
    "- На вход программе ничего не подается.\n",
    "\n",
    "Формат выходных данных\n",
    "- Программа должна создать файл с именем answer.txt и вывести в него в алфавитном порядке названия цветов козлов, которые удовлетворяют условию загадки Жака Фреско.\n",
    "\n",
    "Примечание 1. Считайте, что исполняемая программа и указанные файлы находятся в одной папке.\n",
    "\n",
    "Примечание 2. Если бы файл goats.txt содержал строки:\n",
    "```text\n",
    "COLOURS\n",
    "Pink goat\n",
    "Green goat\n",
    "Black goat\n",
    "GOATS\n",
    "Pink goat\n",
    "Pink goat\n",
    "Black goat\n",
    "Pink goat\n",
    "Pink goat\n",
    "Black goat\n",
    "Green goat\n",
    "Pink goat\n",
    "Black goat\n",
    "Black goat\n",
    "Pink goat\n",
    "Pink goat\n",
    "Black goat\n",
    "Black goat\n",
    "Pink goat\n",
    "```\n",
    "то файл answer.txt имел бы вид:\n",
    "```text\n",
    "Black goat\n",
    "Pink goat\n",
    "```\n",
    "Примечание 3. Указанный файл можно скачать по ссылке. "
   ]
  },
  {
   "cell_type": "code",
   "execution_count": 162,
   "metadata": {},
   "outputs": [],
   "source": [
    "with open('goats.txt', 'r', encoding='utf-8') as data, open('answer.txt', 'w', encoding='utf-8') as output:\n",
    "    data.readline() # переход курсора с заголовка\n",
    "    goats = {} # создаем словарь козлов\n",
    "    while True:\n",
    "        row = data.readline().strip()\n",
    "        if row == 'GOATS':\n",
    "            break\n",
    "        goats[row.split()[0]] = 0\n",
    "\n",
    "    data.readline() # переход курсора с заголовка\n",
    "    \n",
    "    total = 0\n",
    "    for colour in data.readlines():\n",
    "        total += 1\n",
    "        colour = colour.strip()\n",
    "        goats[colour] = goats.get(colour, 0) + 1\n",
    "\n",
    "    for goat in goats:\n",
    "        if round(goats.get(goat) / total, 2) > 0.07:\n",
    "            print(goat, file=output)"
   ]
  },
  {
   "cell_type": "code",
   "execution_count": 163,
   "metadata": {},
   "outputs": [
    {
     "name": "stdout",
     "output_type": "stream",
     "text": [
      "Pink goat\n",
      "White goat\n",
      "\n"
     ]
    }
   ],
   "source": [
    "with open('answer.txt', 'r', encoding='utf-8') as datafile:\n",
    "    print(datafile.read())"
   ]
  },
  {
   "cell_type": "markdown",
   "metadata": {},
   "source": [
    "**Конкатенация файлов 🌶️**\n",
    "\n",
    "На вход программе подается натуральное число n строк с названиями файлов. Напишите программу, которая создает файл output.txt и выводит в него содержимое всех файлов, не меняя их порядка. Смотрите Примечание 2 для понимания работы программы.\n",
    "\n",
    "Формат входных данных\n",
    "- На вход программе подается натуральное число n строк названий существующих файлов.\n",
    "\n",
    "Формат выходных данных\n",
    "- Программа должна создать файл с именем output.txt в соответствии с условием задачи.\n",
    "\n",
    "Примечание 1. Считайте, что исполняемая программа и указанные файлы находятся в одной папке.\n",
    "\n",
    "Примечание 2. Если бы на вход было подано 2 файла и эти файлы содержали бы строки\n",
    "\n",
    "```text \n",
    "Early in the morning\n",
    "```\n",
    "\n",
    "и\n",
    "\n",
    "```text\n",
    "we\n",
    "went\n",
    "for mushrooms\n",
    "```\n",
    "то результирующий файл output.txt выглядел бы следующим образом:\n",
    "\n",
    "```text\n",
    "Early in the morningwe\n",
    "went\n",
    "for mushrooms\n",
    "```"
   ]
  },
  {
   "cell_type": "code",
   "execution_count": null,
   "metadata": {},
   "outputs": [],
   "source": [
    "with open('output.txt', 'a', encoding='utf-8') as output:\n",
    "    for _ in range(int(input())):\n",
    "        filename = input()\n",
    "        with open(filename, 'r', encoding='utf-8') as file:\n",
    "            text = file.read()\n",
    "        output.write(text)"
   ]
  },
  {
   "cell_type": "markdown",
   "metadata": {},
   "source": [
    "**Лог файл 🌶️**\n",
    "\n",
    "Вам доступен текстовый файл logfile.txt с информацией о времени входа пользователя в систему и выхода из нее. Каждая строка файла содержит три значения, разделенные запятыми и символом пробела: имя пользователя, время входа, время выхода, где время указано в 24-часовом формате.\n",
    "\n",
    "Напишите программу, которая создает файл output.txt и выводит в него имена всех пользователей (не меняя порядка следования), которые были в сети не менее часа.\n",
    "\n",
    "Формат входных данных\n",
    "- На вход программе ничего не подается.\n",
    "\n",
    "Формат выходных данных\n",
    "- Программа должна создать файл с именем output.txt в соответствии с условием задачи.\n",
    "\n",
    "Примечание 1. Считайте, что исполняемая программа и указанные файлы находятся в одной папке.\n",
    "\n",
    "Примечание 2. Считайте, что каждый пользователь был только раз в системе, то есть в файле нет двух строк с одинаковым пользователем.\n",
    "\n",
    "Примечание 3. Если бы файл logfile.txt содержал строки:\n",
    "```text\n",
    "Тимур Гуев, 14:10, 15:50\n",
    "Руслан Гриценко, 12:00, 12:59\n",
    "Роман Гацалов, 09:10, 17:45\n",
    "Габолаев Георгий, 11:10, 12:10\n",
    "```\n",
    "то файл output.txt имел бы вид:\n",
    "```text\n",
    "Тимур Гуев\n",
    "Роман Гацалов\n",
    "Габолаев Георгий\n",
    "```\n",
    "Примечание 4. Указанный файл можно скачать по ссылке. "
   ]
  },
  {
   "cell_type": "code",
   "execution_count": 197,
   "metadata": {},
   "outputs": [],
   "source": [
    "def to_minutes(x):\n",
    "    xhours, xminutes = list(map(int, x.split(':')))\n",
    "    return 60 * xhours + xminutes \n",
    "\n",
    "with open('logfile.txt', 'r', encoding='utf-8') as data, open('output.txt', 'w', encoding='utf-8') as output:\n",
    "    for loc in data.readlines():\n",
    "        user, start_session, end_session = loc.strip().split(', ')\n",
    "        duration = to_minutes(end_session) - to_minutes(start_session)\n",
    "        if duration >= 60:\n",
    "            print(user, file=output)"
   ]
  },
  {
   "cell_type": "code",
   "execution_count": 198,
   "metadata": {},
   "outputs": [
    {
     "name": "stdout",
     "output_type": "stream",
     "text": [
      "Тимур Гуев\n",
      "Роман Гацалов\n",
      "Габолаев Георгий\n",
      "Гергиева Светлана\n",
      "Гуева Лариса\n",
      "Засеев Ирбек\n",
      "Гуева Лиза\n",
      "Харисов Артур\n",
      "Янченко Роман\n",
      "\n"
     ]
    }
   ],
   "source": [
    "with open('output.txt', 'r', encoding='utf-8') as datafile:\n",
    "    print(datafile.read())"
   ]
  },
  {
   "cell_type": "code",
   "execution_count": null,
   "metadata": {},
   "outputs": [],
   "source": []
  }
 ],
 "metadata": {
  "kernelspec": {
   "display_name": "venv",
   "language": "python",
   "name": "python3"
  },
  "language_info": {
   "codemirror_mode": {
    "name": "ipython",
    "version": 3
   },
   "file_extension": ".py",
   "mimetype": "text/x-python",
   "name": "python",
   "nbconvert_exporter": "python",
   "pygments_lexer": "ipython3",
   "version": "3.10.12"
  },
  "orig_nbformat": 4
 },
 "nbformat": 4,
 "nbformat_minor": 2
}
